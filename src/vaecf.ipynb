{
 "cells": [
  {
   "cell_type": "code",
   "execution_count": 42,
   "metadata": {},
   "outputs": [],
   "source": [
    "import os\n",
    "import numpy as np\n",
    "import shutil\n",
    "from scipy import sparse\n",
    "\n",
    "import tensorflow as tf\n",
    "from tensorflow.contrib.layers import apply_regularization, l2_regularizer\n",
    "import bottleneck as bn"
   ]
  },
  {
   "cell_type": "code",
   "execution_count": 54,
   "metadata": {},
   "outputs": [],
   "source": [
    "import vaecf_util as util\n",
    "import vaecf as model\n",
    "import vaecf_metric as metric\n",
    "import vaecf_preprocess as preprocess\n",
    "import vaecf_train as trainer\n",
    "import vaecf_evaluate as evaluator"
   ]
  },
  {
   "cell_type": "code",
   "execution_count": 55,
   "metadata": {},
   "outputs": [],
   "source": [
    "import imp\n",
    "util = imp.reload(util)\n",
    "preprocess = imp.reload(preprocess)\n",
    "trainer = imp.reload(trainer)\n",
    "evaluator = imp.reload(evaluator)"
   ]
  },
  {
   "cell_type": "code",
   "execution_count": 4,
   "metadata": {},
   "outputs": [],
   "source": [
    "### Pre-process data"
   ]
  },
  {
   "cell_type": "code",
   "execution_count": 5,
   "metadata": {},
   "outputs": [],
   "source": [
    "DATA_DIR = '../data/'\n",
    "fn_uid_sids = 'sample_uid_sids.txt'"
   ]
  },
  {
   "cell_type": "code",
   "execution_count": 41,
   "metadata": {},
   "outputs": [
    {
     "name": "stdout",
     "output_type": "stream",
     "text": [
      "data_train.txt data_dev.txt data_test.txt\n",
      "n_users:31677\n",
      "n_items:63153\n"
     ]
    }
   ],
   "source": [
    "idx2uid, uid2idx, idx2sid, sid2idx, uid_sids_dict, n_users, n_items, train_data, vad_data_tr, vad_data_te, test_data_tr, test_data_te =\\\n",
    "    preprocess.preprocess_data(data_dir=DATA_DIR, fn_uid_sids=fn_uid_sids)"
   ]
  },
  {
   "cell_type": "code",
   "execution_count": 14,
   "metadata": {},
   "outputs": [],
   "source": [
    "### train"
   ]
  },
  {
   "cell_type": "code",
   "execution_count": null,
   "metadata": {},
   "outputs": [],
   "source": [
    "vae = trainer.train(n_users, n_items, train_data, vad_data_tr, vad_data_te, test_data_tr, test_data_te)"
   ]
  },
  {
   "cell_type": "code",
   "execution_count": 43,
   "metadata": {},
   "outputs": [],
   "source": [
    "### evaluate"
   ]
  },
  {
   "cell_type": "code",
   "execution_count": null,
   "metadata": {},
   "outputs": [],
   "source": [
    "evaluator.evaluate(n_users, n_items, train_data, vad_data_tr, vad_data_te, test_data_tr, test_data_te)"
   ]
  },
  {
   "cell_type": "code",
   "execution_count": null,
   "metadata": {},
   "outputs": [],
   "source": []
  }
 ],
 "metadata": {
  "kernelspec": {
   "display_name": "Python 3",
   "language": "python",
   "name": "python3"
  },
  "language_info": {
   "codemirror_mode": {
    "name": "ipython",
    "version": 3
   },
   "file_extension": ".py",
   "mimetype": "text/x-python",
   "name": "python",
   "nbconvert_exporter": "python",
   "pygments_lexer": "ipython3",
   "version": "3.6.4"
  }
 },
 "nbformat": 4,
 "nbformat_minor": 2
}
